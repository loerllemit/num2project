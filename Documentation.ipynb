{
 "cells": [
  {
   "cell_type": "markdown",
   "metadata": {},
   "source": [
    "This code is divided into three main parts implemented as classes: MolDyn, RDF, and Plots.\n",
    "\n",
    "For the MolDyn class, this will implement the core of the molecular dynamics simulations. The positions, velocities, and accelerations at each time steps are stored in the 3-dimensional arrays _pos_config_, _vel_config_, and _acc_config_. The first index is the timestep, the second is the particle number, and the third are the coordinates. For instance, _pos_config[120,64,1]_ returns the position(0->x,1->y,2->z coordinate) of the 64th particle for the 120th timestep.\n"
   ]
  },
  {
   "cell_type": "markdown",
   "metadata": {},
   "source": [
    "For the RDF class, this will implement on how to get radial distribution function and the cumulative distribution function (i.e. the coordination number). All the $N(N-1)/2$ distances computed from unique pairs of particles were used to create the histogram for a specific timestep. In other words, all the particles were considered as reference particles for computing the RDF. The obtained RDF should be then divided by $N$ reference particles. The final RDF was taken to be the average of 8 RDFs from equally spaced time intervals.\n"
   ]
  },
  {
   "cell_type": "markdown",
   "metadata": {},
   "source": [
    "Lastly, the Plot class will implement procedures for plotting different graphs of interest.\n"
   ]
  },
  {
   "cell_type": "markdown",
   "metadata": {},
   "source": [
    "How to run the code?\n"
   ]
  },
  {
   "cell_type": "markdown",
   "metadata": {},
   "source": [
    "Use the **instances.py** file to run the code. This file will create an instance of the classes used in the code. You can then change the parameters such as temp, box_scale, rcut_scale, thermo_rate, equilibration, Niter (see the MolDyn class for the meanings of these parameters). Please make sure that **plots** and **data** folder are present in the same directory, else you need to create them.\n"
   ]
  },
  {
   "cell_type": "markdown",
   "metadata": {},
   "source": [
    "See the latest changes to the code:\n",
    "https://github.com/loerllemit/num2project\n"
   ]
  },
  {
   "cell_type": "markdown",
   "metadata": {},
   "source": []
  }
 ],
 "metadata": {
  "kernelspec": {
   "display_name": "ictp_sp",
   "language": "python",
   "name": "python3"
  },
  "language_info": {
   "name": "python",
   "version": "3.11.7"
  }
 },
 "nbformat": 4,
 "nbformat_minor": 2
}
